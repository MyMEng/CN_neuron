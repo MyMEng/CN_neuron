{
 "metadata": {
  "name": "Lab2"
 },
 "nbformat": 3,
 "nbformat_minor": 0,
 "worksheets": [
  {
   "cells": [
    {
     "cell_type": "markdown",
     "metadata": {},
     "source": [
      "Part 1: Simulate an integrate and fire model with the following parameters (notation as in the slides) for 1s:\n",
      "\n",
      "\u03c4m = 10 [ms] (i.e. \u03c4m is the time constant of the membrane) \n",
      "\n",
      "EL = Vreset = -70 [mV] \n",
      "\n",
      "Vth = -40 [mV] \n",
      "\n",
      "Rm = 10 [M\u03a9] \n",
      "\n",
      "Ie = 3.1 [nA] \n",
      "\n",
      "DT = 1 [ms] \n",
      "\n",
      "And plot the voltage as a function of time. For simplicity assume that the neuron does not have a refractory period after producing a spike. [30% of mark] You do not need to plot spikes - once membrane potential exceeds threshold, simply set the membrane potential to Vreset."
     ]
    },
    {
     "cell_type": "code",
     "collapsed": false,
     "input": [
      "#import math\n",
      "#import numpy as np\n",
      "from scipy.integrate import odeint\n",
      "#from pylab import linspace\n",
      "#from pylab import arange\n",
      "#from pylab import array\n",
      "import matplotlib.pyplot as plt\n",
      "#import matplotlib"
     ],
     "language": "python",
     "metadata": {},
     "outputs": [],
     "prompt_number": 34
    },
    {
     "cell_type": "markdown",
     "metadata": {},
     "source": [
      "$$ \\tau_m \\frac{dV}{dt} = E_L - V + R_m I_e $$"
     ]
    },
    {
     "cell_type": "code",
     "collapsed": false,
     "input": [
      "# All variables are in SI\n",
      "#  time period 0--1 second\n",
      "tau = 10 * 10**-3\n",
      "EL = Vr = -70 * 10**-3\n",
      "Vth = -40 * 10**-3\n",
      "Rm = 10 * 10**6\n",
      "Ie = 3.1 * 10**-9\n",
      "dt = 1 * 10**-3\n",
      "\n",
      "# is spike needed\n",
      "# spike = 20 * 10**-3"
     ],
     "language": "python",
     "metadata": {},
     "outputs": [],
     "prompt_number": 35
    },
    {
     "cell_type": "code",
     "collapsed": false,
     "input": [
      "def integrateFire( V, t ) :\n",
      "    return ( EL - V + Rm*Ie ) / tau"
     ],
     "language": "python",
     "metadata": {},
     "outputs": [],
     "prompt_number": 36
    },
    {
     "cell_type": "code",
     "collapsed": false,
     "input": [
      "# refactory = True\n",
      "\n",
      "# time = arange( 0.0, 1.0, step=dt )\n",
      "# time = np.append(time, 1.0)\n",
      "# V = []\n",
      "# V.append( Vr ) # initial value of V\n",
      "\n",
      "# for i, t in enumerate( time[1:] ) :\n",
      "    \n",
      "#     if ( refactory ) :\n",
      "#         V.append( V[-1] + dt * integrateFire( V[-1], t - dt ) )\n",
      "    \n",
      "#     # Vth, THEN Generate a spike; V = Vreset\n",
      "#     refactory = True\n",
      "    \n",
      "#     if V[-1] > Vth :\n",
      "#         # produce a spike ??????????????????????????????????\n",
      "#         V[-1] = spike\n",
      "#         V.append( Vr )\n",
      "#         refactory = False"
     ],
     "language": "python",
     "metadata": {},
     "outputs": [],
     "prompt_number": 37
    },
    {
     "cell_type": "code",
     "collapsed": false,
     "input": [
      "time = arange( 0.0, 1.0, step=dt )\n",
      "time = np.append(time, 1.0)\n",
      "V = []\n",
      "V.append( Vr ) # initial value of V\n",
      "\n",
      "for i, t in enumerate( time[1:] ) :\n",
      "    V.append( V[-1] + dt * integrateFire( V[-1], t - dt ) )\n",
      "    \n",
      "    if V[-1] > Vth :\n",
      "        V[-1] = Vr"
     ],
     "language": "python",
     "metadata": {},
     "outputs": [],
     "prompt_number": 38
    },
    {
     "cell_type": "code",
     "collapsed": false,
     "input": [
      "plt.figure(1)\n",
      "plt.plot(time,V) # f[:,0] is the first column of y\n",
      "plt.xlabel(\"time 't' in seconds\")\n",
      "plt.ylabel(\"voltage V in Volts\")\n",
      "plt.title('Spiking Integrate-and-Fire Model')\n",
      "plt.axis([ 0, 1, -0.075, -0.035 ])\n",
      "# plt.axis([ 0, 1, -0.075, 0.025 ])\n",
      "plt.show()"
     ],
     "language": "python",
     "metadata": {},
     "outputs": [
      {
       "output_type": "display_data",
       "png": "[encoded data removed]"
      }
     ],
     "prompt_number": 39
    },
    {
     "cell_type": "markdown",
     "metadata": {},
     "source": [
      "Part 2:\n",
      "a) Compute analytically the minimum current $I_e$ required for the neuron with the above\n",
      "parameters ($\\tau_m$, $E_L$, $V_{reset}$, $V_{th}$, $R_m$) to produce an action potential. [10% of mark]"
     ]
    },
    {
     "cell_type": "markdown",
     "metadata": {},
     "source": [
      "#NO\n",
      "\n",
      "$$\n",
      "\\tau_m \\frac{dV}{dt} = E_L - V + R_m I_e\n",
      "$$\n",
      "\n",
      "$$\n",
      "\\tau_m \\frac{dV}{dt} - E_L + V = R_m I_e\n",
      "$$\n",
      "\n",
      "$$\n",
      "\\left( \\tau_m \\frac{dV}{dt} - E_L + V \\right) * \\frac{1}{R_m} = I_e\n",
      "$$"
     ]
    },
    {
     "cell_type": "markdown",
     "metadata": {},
     "source": [
      "#NO2\n",
      "\n",
      "$$\n",
      "\\tau_m \\frac{dV}{dt} = E_L - V + R_m I_e\n",
      "$$\n",
      "\n",
      "$$\n",
      "V = E_L + R_m I_e - \\tau_m \\frac{dV}{dt}\n",
      "$$\n",
      "\n",
      "## To produce action potential $V > V_{th} = -40 * 10^{-3}$\n",
      "\n",
      "$$\n",
      "E_L + R_m I_e - \\tau_m \\frac{dV}{dt} > V_{th}\n",
      "$$\n",
      "\n",
      "$$\n",
      "I_e > \\left( V_{th} + \\tau_m \\frac{dV}{dt} - E_L \\right) \\frac{1}{R_m}\n",
      "$$\n",
      "\n",
      "$$\n",
      "I_e > \\left( V_{th} + \\tau_m \\frac{V_{th} - V_R}{1} - E_L \\right) \\frac{1}{R_m}\n",
      "$$"
     ]
    },
    {
     "cell_type": "code",
     "collapsed": false,
     "input": [
      "R = ( Vth + tau*(Vth - Vr) - EL ) / Rm\n",
      "print double(R)"
     ],
     "language": "python",
     "metadata": {},
     "outputs": [
      {
       "output_type": "stream",
       "stream": "stdout",
       "text": [
        "3.03e-09\n"
       ]
      }
     ],
     "prompt_number": 40
    },
    {
     "cell_type": "markdown",
     "metadata": {},
     "source": [
      "$$\n",
      "I_e > 3.03 * 10^{-9}\n",
      "$$\n",
      "\n",
      "$$\n",
      "I_e > 3.03 \\text{ nA}\n",
      "$$"
     ]
    },
    {
     "cell_type": "markdown",
     "metadata": {},
     "source": [
      "#YES\n",
      "## Finding Attractor\n",
      "set derivative to 0  \n",
      "from slides the neuron will fire if  \n",
      "$$\n",
      "I_e > \\frac{V_{th} - E_L}{R_m}\n",
      "$$"
     ]
    },
    {
     "cell_type": "code",
     "collapsed": false,
     "input": [
      "Iattr = (Vth - EL) / Rm\n",
      "print Iattr"
     ],
     "language": "python",
     "metadata": {},
     "outputs": [
      {
       "output_type": "stream",
       "stream": "stdout",
       "text": [
        "3e-09\n"
       ]
      }
     ],
     "prompt_number": 41
    },
    {
     "cell_type": "markdown",
     "metadata": {},
     "source": [
      "Part 2:\n",
      "b) Simulate the neuron (for 1s) for the input current with amplitude Ie which is 0.1 [nA]\n",
      "lower than the minimum current computed in part a), and plot the voltage as a functions of time. [10% of mark]"
     ]
    },
    {
     "cell_type": "code",
     "collapsed": false,
     "input": [
      "# IeLow = R - 0.1 * 10 ** -9 # NO2 solution\n",
      "IeLow = Iattr - 0.1 * 10 ** -9 # YES solution\n",
      "Ie = IeLow"
     ],
     "language": "python",
     "metadata": {},
     "outputs": [],
     "prompt_number": 42
    },
    {
     "cell_type": "code",
     "collapsed": false,
     "input": [
      "V = []\n",
      "V.append( Vr ) # initial value of V\n",
      "\n",
      "for i, t in enumerate( time[1:] ) :\n",
      "    V.append( V[-1] + dt * integrateFire( V[-1], t - dt ) )\n",
      "    \n",
      "    if V[-1] > Vth :\n",
      "        V[-1] = Vr"
     ],
     "language": "python",
     "metadata": {},
     "outputs": [],
     "prompt_number": 43
    },
    {
     "cell_type": "code",
     "collapsed": false,
     "input": [
      "plt.figure(2)\n",
      "plt.plot(time,V) # f[:,0] is the first column of y\n",
      "plt.xlabel(\"time 't' in seconds\")\n",
      "plt.ylabel(\"voltage V in Volts\")\n",
      "plt.title('Spiking Integrate-and-Fire Model')\n",
      "plt.axis([ 0, 1, -0.075, -0.035 ])\n",
      "# plt.axis([ 0, 1, -0.075, 0.025 ])\n",
      "plt.show()"
     ],
     "language": "python",
     "metadata": {},
     "outputs": [
      {
       "output_type": "display_data",
       "png": "[encoded data removed]"
      }
     ],
     "prompt_number": 44
    },
    {
     "cell_type": "markdown",
     "metadata": {},
     "source": [
      "Part 3: Simulate the neuron (for 1s) for currents ranging from 2 [nA] to 5 [nA] in steps of 0.1 [nA]. For each amplitude of current count the number of spikes produced (i.e. the firing rate). Plot the firing rate as the function of the input current. [20% of mark]"
     ]
    },
    {
     "cell_type": "code",
     "collapsed": false,
     "input": [
      "currents = arange( 2 * 10**-9, 5 * 10**-9, step=0.1 * 10**-9 )\n",
      "currents = np.append(currents, 5)"
     ],
     "language": "python",
     "metadata": {},
     "outputs": [],
     "prompt_number": 45
    },
    {
     "cell_type": "code",
     "collapsed": false,
     "input": [
      "cSpike = []\n",
      "for c in currents :\n",
      "    spikes = 0\n",
      "    Ie = c\n",
      "    V = []\n",
      "    V.append( Vr ) # initial value of V\n",
      "    for i, t in enumerate( time[1:] ) :\n",
      "        V.append( V[-1] + dt * integrateFire( V[-1], t - dt ) )\n",
      "        if V[-1] > Vth :\n",
      "            V[-1] = Vr\n",
      "            spikes += 1\n",
      "            \n",
      "    cSpike.append( spikes )\n",
      "            "
     ],
     "language": "python",
     "metadata": {},
     "outputs": [],
     "prompt_number": 46
    },
    {
     "cell_type": "code",
     "collapsed": false,
     "input": [
      "plt.figure(3)\n",
      "plt.plot(currents,cSpike)\n",
      "plt.xlabel(\"current 'Ie' in Ampers\")\n",
      "plt.ylabel(\"number of spikes\")\n",
      "plt.title('Dependance between Input Current and Spiking Rate')\n",
      "plt.axis([ -0.5, 5.5, -100, 1100 ])\n",
      "plt.show()"
     ],
     "language": "python",
     "metadata": {},
     "outputs": [
      {
       "output_type": "display_data",
       "png": "[encoded data removed]"
      }
     ],
     "prompt_number": 47
    },
    {
     "cell_type": "markdown",
     "metadata": {},
     "source": [
      "Part 4: Simulate two neurons which have synaptic connections between each other, i.e. the first neuron projects to the second, and the second neuron projects to the first. Both model neurons should have the same parameters:\n",
      "\n",
      "\u03c4m = 20 [ms]\n",
      "\n",
      "EL = -70 [mV]\n",
      "\n",
      "Vreset = -80 [mV]\n",
      "\n",
      "Vth = -54 [mV]\n",
      "\n",
      "RmIe = 18 [mV]\n",
      "\n",
      "and their synapses should also have the same parameters: RmGs = 0.15\n",
      "\n",
      "Pmax = 0.5 \u03c4s = 10 [ms].\n",
      "\n",
      "DT = 1 [ms]\n",
      "\n",
      "Simulate two cases:"
     ]
    },
    {
     "cell_type": "markdown",
     "metadata": {},
     "source": [
      "a) assuming that the synapses are excitatory with Es = 0 [mV]"
     ]
    },
    {
     "cell_type": "markdown",
     "metadata": {},
     "source": [
      "b) assuming that the synapses are inhibitory with Es = -80 [mV]"
     ]
    },
    {
     "cell_type": "markdown",
     "metadata": {},
     "source": [
      "For each simulation set the initial membrane potentials of the neurons V to different values chosen randomly from between Vreset and Vth and simulate 1s of activity. For each case plot the volateges of the two neurons on the same graph (with different colours). [20% of mark] You should observe differences between the two cases. Comment in one or two sentences on these differences. [10% of mark]\n",
      "\n",
      "In this and next assignments, all the plots should have axes labels, and if there are multiple graphs on a plot, the legend (or key) should be included. For each missing label or legend, 1% of mark will be subtracted.\n",
      "\n",
      "Write a brief report (no longer than 2 pages) including the above mentioned figures and the comments specified above (you can add more text but you will not receive additional mark for it). Submit it in the pdf format together with the Matlab or Python code by the deadline given in the SAFE system."
     ]
    },
    {
     "cell_type": "code",
     "collapsed": false,
     "input": [],
     "language": "python",
     "metadata": {},
     "outputs": []
    }
   ],
   "metadata": {}
  }
 ]
}